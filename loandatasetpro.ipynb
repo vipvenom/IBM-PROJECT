{
 "cells": [
  {
   "cell_type": "code",
   "execution_count": null,
   "metadata": {},
   "outputs": [],
   "source": [
    "import pandas as pd\n",
    "import numpy as np\n",
    "import matplotlib.pyplot as plt\n",
    "import seaborn as sns"
   ]
  },
  {
   "cell_type": "markdown",
   "metadata": {},
   "source": [
    "1. Import the dataset and understand it. "
   ]
  },
  {
   "cell_type": "code",
   "execution_count": null,
   "metadata": {},
   "outputs": [],
   "source": [
    "df = pd.read_csv('loan_data.csv') #Loaded the file"
   ]
  },
  {
   "cell_type": "code",
   "execution_count": null,
   "metadata": {},
   "outputs": [],
   "source": [
    "def get_rows_and_columns():\n",
    "    print(\"Rows, Columns:\", df.shape)"
   ]
  },
  {
   "cell_type": "code",
   "execution_count": null,
   "metadata": {},
   "outputs": [],
   "source": [
    "def convert_int_rate():\n",
    "    df['int_rate'] = df['int_rate'].apply(lambda x: float(x.rstrip('%'))) #converted the int Rate to Fload Data Type"
   ]
  },
  {
   "cell_type": "code",
   "execution_count": null,
   "metadata": {},
   "outputs": [],
   "source": [
    "def check_dtypes():\n",
    "    print(df.dtypes) #to check the datatypes of all columns"
   ]
  },
  {
   "cell_type": "code",
   "execution_count": null,
   "metadata": {},
   "outputs": [],
   "source": [
    "def clean_data():\n",
    "    df.dropna(axis=1, how='all', inplace=True) # Remove the columns having complete NaN \n",
    "    print(\"Successfully Removed columns having NaN\")"
   ]
  },
  {
   "cell_type": "code",
   "execution_count": null,
   "metadata": {},
   "outputs": [],
   "source": [
    "def filter_loan_status():\n",
    "    loan_status_counts = df['loan_status'].value_counts() # Gets value counts of 'loan_status' column\n",
    "    filtered_loan_status = loan_status_counts.loc[['Fully Paid', 'Charged Off']] # Filter only 'Fully Paid' and 'Charged Off' categories\n",
    "    print(filtered_loan_status)"
   ]
  },
  {
   "cell_type": "code",
   "execution_count": null,
   "metadata": {},
   "outputs": [],
   "source": [
    "def extract_emp_length():\n",
    "    df['emp_length'] = df['emp_length'].str.extract('(\\d+)').astype(float) #extracting the numerical value\n",
    "    print(\"Sucessfuly Extracted numerical value from emp_length\")"
   ]
  },
  {
   "cell_type": "code",
   "execution_count": null,
   "metadata": {},
   "outputs": [],
   "source": [
    "def clean_term():\n",
    "    df['term'] = df['term'].apply(lambda x: int(x.strip().split()[0])) #removed the 'month' from term and updated it to just the numeric value"
   ]
  },
  {
   "cell_type": "code",
   "execution_count": null,
   "metadata": {},
   "outputs": [],
   "source": [
    "def create_risky_loan_applicant():\n",
    "    df['risky_loan_applicant'] = np.where(df['loan_amnt'] <= df['funded_amnt'], 0, 1)"
   ]
  },
  {
   "cell_type": "code",
   "execution_count": null,
   "metadata": {},
   "outputs": [],
   "source": [
    "def plot_loan_status():\n",
    "    fig, axes = plt.subplots(1, 3, figsize=(18, 5))\n",
    "    sns.countplot(x='grade', hue='loan_status', data=df, ax=axes[0])\n",
    "    sns.countplot(x='term', hue='loan_status', data=df, ax=axes[1])\n",
    "    sns.countplot(x='verification_status', hue='loan_status', data=df, ax=axes[2])\n",
    "    plt.show()"
   ]
  },
  {
   "cell_type": "code",
   "execution_count": null,
   "metadata": {},
   "outputs": [],
   "source": [
    "def categorize_experience(emp_len):\n",
    "    if emp_len <= 1:\n",
    "        return 'Fresher'\n",
    "    elif 1 < emp_len <= 3:\n",
    "        return 'Junior'\n",
    "    elif 3 < emp_len <= 7:\n",
    "        return 'Senior'\n",
    "    else:\n",
    "        return 'Expert'"
   ]
  },
  {
   "cell_type": "code",
   "execution_count": null,
   "metadata": {},
   "outputs": [],
   "source": [
    "def create_emp_category():\n",
    "    df['emp_category'] = df['emp_length'].apply(categorize_experience)"
   ]
  },
  {
   "cell_type": "code",
   "execution_count": null,
   "metadata": {},
   "outputs": [],
   "source": [
    "def plot_loan_distribution():\n",
    "    grade_loan_sum = df.groupby('grade')['loan_amnt'].sum()\n",
    "    plt.figure(figsize=(8, 8))\n",
    "    plt.pie(grade_loan_sum, labels=grade_loan_sum.index, autopct='%1.1f%%', startangle=140)\n",
    "    plt.title('Loan Amount Distribution by Grade')\n",
    "    plt.show()"
   ]
  },
  {
   "cell_type": "code",
   "execution_count": null,
   "metadata": {},
   "outputs": [],
   "source": [
    "def save_cleaned_data(filename):\n",
    "    df.to_csv(filename, index=False)\n",
    "#2. List down the number of rows and columns. \n"
   ]
  },
  {
   "cell_type": "markdown",
   "metadata": {},
   "source": [
    "2. List down the number of rows and columns. "
   ]
  },
  {
   "cell_type": "code",
   "execution_count": null,
   "metadata": {},
   "outputs": [],
   "source": [
    "get_rows_and_columns()"
   ]
  },
  {
   "cell_type": "markdown",
   "metadata": {},
   "source": [
    "3. ‘Int_rate’ column is character type. With the help of lambda function convert into float type. "
   ]
  },
  {
   "cell_type": "code",
   "execution_count": null,
   "metadata": {},
   "outputs": [],
   "source": [
    "convert_int_rate()"
   ]
  },
  {
   "cell_type": "markdown",
   "metadata": {},
   "source": [
    "4. Check the datatype of each column. "
   ]
  },
  {
   "cell_type": "code",
   "execution_count": null,
   "metadata": {},
   "outputs": [],
   "source": [
    "check_dtypes()"
   ]
  },
  {
   "cell_type": "markdown",
   "metadata": {},
   "source": [
    "5. Cleaning the dataset- Remove the columns having complete NaN value in the entire dataset. "
   ]
  },
  {
   "cell_type": "code",
   "execution_count": null,
   "metadata": {},
   "outputs": [],
   "source": [
    "clean_data()"
   ]
  },
  {
   "cell_type": "markdown",
   "metadata": {},
   "source": [
    "6. Write the code to find the value counts of the ‘loan_status’ category column and filter only the ‘fully paid’ and ‘charged off’ categories. "
   ]
  },
  {
   "cell_type": "code",
   "execution_count": null,
   "metadata": {},
   "outputs": [],
   "source": [
    "filter_loan_status()"
   ]
  },
  {
   "cell_type": "markdown",
   "metadata": {},
   "source": [
    "7. Filter the ‘Emp_Len’ column to extract the numerical value from the string. "
   ]
  },
  {
   "cell_type": "code",
   "execution_count": null,
   "metadata": {},
   "outputs": [],
   "source": [
    "extract_emp_length()"
   ]
  },
  {
   "cell_type": "markdown",
   "metadata": {},
   "source": [
    "8. Using the Lambda function, remove the month from the ‘term’ column such that ‘36 months’, ‘60 months’ appear as 36 and 60 respectively. "
   ]
  },
  {
   "cell_type": "code",
   "execution_count": null,
   "metadata": {},
   "outputs": [],
   "source": [
    "clean_term()"
   ]
  },
  {
   "cell_type": "markdown",
   "metadata": {},
   "source": [
    "9. Create a new column as risky_loan_applicant by comparing loan_amnt and funded_amnt with the following criteria - If loan_amnt is less than equals to funded_amnt set it as ‘0’ else set it as ‘1’. "
   ]
  },
  {
   "cell_type": "code",
   "execution_count": null,
   "metadata": {},
   "outputs": [],
   "source": [
    "create_risky_loan_applicant()"
   ]
  },
  {
   "cell_type": "markdown",
   "metadata": {},
   "source": [
    "10. Using the bar plot visualize the loan_status column against categorical column grade, term, verification_status. Write the observation from each graph. "
   ]
  },
  {
   "cell_type": "code",
   "execution_count": null,
   "metadata": {},
   "outputs": [],
   "source": [
    "plot_loan_status()"
   ]
  },
  {
   "cell_type": "markdown",
   "metadata": {},
   "source": [
    "11.Using a user defined function convert the ‘emp_len’ column into categorical column as follows - If emp_len is less than equals to 1 then recode as ‘fresher’. If emp_len is greater than 1 and less than 3 then recode as ‘junior’. If emp_len is greater than 3 and less than 7 then recode as ‘senior’ If emp_len is greater than 7 then recode as ‘expert’. "
   ]
  },
  {
   "cell_type": "code",
   "execution_count": null,
   "metadata": {},
   "outputs": [],
   "source": [
    "create_emp_category()"
   ]
  },
  {
   "cell_type": "markdown",
   "metadata": {},
   "source": [
    "12.Find the sum of ‘loan_amnt’ for each grade and display the distribution of ‘loan_amnt’ using a pie plot."
   ]
  },
  {
   "cell_type": "code",
   "execution_count": null,
   "metadata": {},
   "outputs": [],
   "source": [
    "plot_loan_distribution()"
   ]
  },
  {
   "cell_type": "code",
   "execution_count": null,
   "metadata": {},
   "outputs": [],
   "source": [
    "save_cleaned_data('cleaned_loan_data.csv')\n",
    "print(\"visualization completed and successfully created new csvfile\")"
   ]
  }
 ],
 "metadata": {
  "kernelspec": {
   "display_name": "Python 3",
   "language": "python",
   "name": "python3"
  },
  "language_info": {
   "codemirror_mode": {
    "name": "ipython",
    "version": 3
   },
   "file_extension": ".py",
   "mimetype": "text/x-python",
   "name": "python",
   "nbconvert_exporter": "python",
   "pygments_lexer": "ipython3",
   "version": "3.6.4"
  }
 },
 "nbformat": 4,
 "nbformat_minor": 2
}
