{
 "cells": [
  {
   "cell_type": "code",
   "execution_count": null,
   "metadata": {},
   "outputs": [],
   "source": [
    "import pandas as pd\n",
    "import numpy as np\n",
    "import matplotlib.pyplot as plt\n",
    "import seaborn as sns"
   ]
  },
  {
   "cell_type": "markdown",
   "metadata": {},
   "source": [
    ". Import the dataset and understand it. "
   ]
  },
  {
   "cell_type": "code",
   "execution_count": null,
   "metadata": {},
   "outputs": [],
   "source": [
    "df = pd.read_csv('loan_data.csv') #Loaded the file"
   ]
  },
  {
   "cell_type": "markdown",
   "metadata": {},
   "source": [
    ". List down the number of rows and columns. "
   ]
  },
  {
   "cell_type": "code",
   "execution_count": null,
   "metadata": {},
   "outputs": [],
   "source": [
    "print(\"Rows, Columns:\", df.shape) #to print number of rows and columns"
   ]
  },
  {
   "cell_type": "markdown",
   "metadata": {},
   "source": [
    ". Int_rate column is character type. With the help of lambda function convert into float type. "
   ]
  },
  {
   "cell_type": "code",
   "execution_count": null,
   "metadata": {},
   "outputs": [],
   "source": [
    "df['int_rate'] = df['int_rate'].apply(lambda x: float(x.rstrip('%'))) #converted the int Rate to Fload Data Type"
   ]
  },
  {
   "cell_type": "markdown",
   "metadata": {},
   "source": [
    ". Check the datatype of each column. "
   ]
  },
  {
   "cell_type": "code",
   "execution_count": null,
   "metadata": {},
   "outputs": [],
   "source": [
    "print(df.dtypes) # to check the datatypes of all columns"
   ]
  },
  {
   "cell_type": "markdown",
   "metadata": {},
   "source": [
    ". Cleaning the dataset- Remove the columns having complete NaN value in the entire dataset. "
   ]
  },
  {
   "cell_type": "code",
   "execution_count": null,
   "metadata": {},
   "outputs": [],
   "source": [
    "df.dropna(axis=1, how='all', inplace=True) # Remove the columns having complete NaN "
   ]
  },
  {
   "cell_type": "markdown",
   "metadata": {},
   "source": [
    ". Write the code to find the value counts of the 'loan_status' category column and filter only the 'fully paid' and 'charged off' categories. "
   ]
  },
  {
   "cell_type": "code",
   "execution_count": null,
   "metadata": {},
   "outputs": [],
   "source": [
    "loan_status_counts = df['loan_status'].value_counts() # Gets value counts of 'loan_status' column"
   ]
  },
  {
   "cell_type": "code",
   "execution_count": null,
   "metadata": {},
   "outputs": [],
   "source": [
    "filtered_loan_status = loan_status_counts.loc[['Fully Paid', 'Charged Off']] # Filter only 'Fully Paid' and 'Charged Off' categories"
   ]
  },
  {
   "cell_type": "code",
   "execution_count": null,
   "metadata": {},
   "outputs": [],
   "source": [
    "print(filtered_loan_status)"
   ]
  },
  {
   "cell_type": "markdown",
   "metadata": {},
   "source": [
    ". Filter the 'Emp_Len' column to extract the numerical value from the string. "
   ]
  },
  {
   "cell_type": "code",
   "execution_count": null,
   "metadata": {},
   "outputs": [],
   "source": [
    "df['emp_length'] = df['emp_length'].str.extract('(\\d+)').astype(float) #extracting the numerical value"
   ]
  },
  {
   "cell_type": "markdown",
   "metadata": {},
   "source": [
    ". Using the Lambda function, remove the month from the 'term' column such that '36 months', '60 months' appear as 36 and 60 respectively. "
   ]
  },
  {
   "cell_type": "code",
   "execution_count": null,
   "metadata": {},
   "outputs": [],
   "source": [
    "df['term'] = df['term'].apply(lambda x: int(x.strip().split()[0])) #removed the 'month' from term and updated it to just the numeric value"
   ]
  },
  {
   "cell_type": "markdown",
   "metadata": {},
   "source": [
    ". Create a new column as risky_loan_applicant by comparing loan_amnt and funded_amnt with the following criteria - If loan_amnt is less than equals to funded_amnt set it as 0 else set it as 1. "
   ]
  },
  {
   "cell_type": "code",
   "execution_count": null,
   "metadata": {},
   "outputs": [],
   "source": [
    "df['risky_loan_applicant'] = np.where(df['loan_amnt'] <= df['funded_amnt'], 0, 1)"
   ]
  },
  {
   "cell_type": "markdown",
   "metadata": {},
   "source": [
    "0. Using the bar plot visualize the loan_status column against categorical column grade, term, verification_status. Write the observation from each graph. "
   ]
  },
  {
   "cell_type": "code",
   "execution_count": null,
   "metadata": {},
   "outputs": [],
   "source": [
    "fig, axes = plt.subplots(1, 3, figsize=(18, 5))\n",
    "sns.countplot(x='grade', hue='loan_status', data=df, ax=axes[0])\n",
    "sns.countplot(x='term', hue='loan_status', data=df, ax=axes[1])\n",
    "sns.countplot(x='verification_status', hue='loan_status', data=df, ax=axes[2])\n",
    "plt.show()"
   ]
  },
  {
   "cell_type": "markdown",
   "metadata": {},
   "source": [
    "Using a user defined function convert the emp_len column into categorical column as follows - If emp_len is less than equals to 1 then recode as fresher. If emp_len is greater than 1 and less than 3 then recode as junior. If emp_len is greater than 3 and less than 7 then recode as senior If emp_len is greater than 7 then recode as expert. "
   ]
  },
  {
   "cell_type": "code",
   "execution_count": null,
   "metadata": {},
   "outputs": [],
   "source": [
    "def categorize_experience(emp_len):\n",
    "    if emp_len <= 1:\n",
    "        return 'Fresher'\n",
    "    elif 1 < emp_len <= 3:\n",
    "        return 'Junior'\n",
    "    elif 3 < emp_len <= 7:\n",
    "        return 'Senior'\n",
    "    else:\n",
    "        return 'Expert'\n",
    "    \n",
    "df['emp_category'] = df['emp_length'].apply(categorize_experience)"
   ]
  },
  {
   "cell_type": "markdown",
   "metadata": {},
   "source": [
    "Find the sum of loan_amnt for each grade and display the distribution of loan_amnt using a pie plot."
   ]
  },
  {
   "cell_type": "code",
   "execution_count": null,
   "metadata": {},
   "outputs": [],
   "source": [
    "grade_loan_sum = df.groupby('grade')['loan_amnt'].sum()\n",
    "plt.figure(figsize=(8, 8))\n",
    "plt.pie(grade_loan_sum, labels=grade_loan_sum.index, autopct='%1.1f%%', startangle=140)\n",
    "plt.title('Loan Amount Distribution by Grade')\n",
    "plt.show()"
   ]
  },
  {
   "cell_type": "code",
   "execution_count": null,
   "metadata": {},
   "outputs": [],
   "source": [
    "df.to_csv('cleaned_loan_data.csv', index=False)"
   ]
  },
  {
   "cell_type": "code",
   "execution_count": null,
   "metadata": {},
   "outputs": [],
   "source": [
    "print(\"Data processing and visualization completed!\")"
   ]
  }
 ],
 "metadata": {
  "kernelspec": {
   "display_name": "Python 3",
   "language": "python",
   "name": "python3"
  },
  "language_info": {
   "codemirror_mode": {
    "name": "ipython",
    "version": 3
   },
   "file_extension": ".py",
   "mimetype": "text/x-python",
   "name": "python",
   "nbconvert_exporter": "python",
   "pygments_lexer": "ipython3",
   "version": "3.6.4"
  }
 },
 "nbformat": 4,
 "nbformat_minor": 2
}
